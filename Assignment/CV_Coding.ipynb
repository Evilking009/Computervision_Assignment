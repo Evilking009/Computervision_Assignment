{
 "cells": [
  {
   "cell_type": "code",
   "execution_count": null,
   "metadata": {},
   "outputs": [],
   "source": [
    "import pixellib\n",
    "from pixellib.tune_bg import alter_bg\n",
    "import cv2\n",
    "import numpy as np\n",
    "\n",
    "# Name of the image file\n",
    "img_name = \"vin.jpg\"\n",
    "\n",
    "# Converts Stock Image to grey background Image\n",
    "change_bg = alter_bg(model_type = \"pb\")\n",
    "change_bg.load_pascalvoc_model(\"xception_pascalvoc.pb\")\n",
    "change_bg.gray_bg(img_name,output_image_name=\"gray_img.jpg\", detect = \"person\")\n",
    "change_bg.blur_bg(\"gray_img.jpg\", low = True, detect = \"person\", output_image_name=\"blur_img.jpg\")\n",
    "\n",
    "# Read images of before and after\n",
    "img1 = cv2.imread(img_name)\n",
    "img2 = cv2.imread(r'blur_img.jpg')\n",
    "\n",
    "# Resize Images\n",
    "percent = 60\n",
    "width = int(img1.shape[1]* percent / 100)\n",
    "height = int(img1.shape[0]*percent / 100)\n",
    "dim = (width, height)\n",
    "\n",
    "img1r = cv2.resize(img1, dim)\n",
    "img2r = cv2.resize(img2, dim)\n",
    "\n",
    "# Custom filter to sharp, Increase Exposure by 1.2\n",
    "filter1 = np.array([[0, -1, 0], [-1, 5, -1], [0, -1, 0]])   # Increase Sharpness\n",
    "filter2 = np.array([[0, 0, 0], [0, 1.2, 0], [0, 0, 0]])     # Increase Exposure by 1.2\n",
    "\n",
    "ImageMod1 = cv2.blur(cv2.filter2D(img2r,-1,filter1), (2,2))          # Slightly blurs+Sharpens\n",
    "custom_image = cv2.filter2D(ImageMod1,-1,filter2)                    # Exposure\n",
    "img2r_enh = cv2.detailEnhance(custom_image, sigma_s=1, sigma_r=0.07) # Adds Slight details\n",
    "\n",
    "# Adaptive Histogram\n",
    "lab = cv2.cvtColor(img2r_enh, cv2.COLOR_BGR2LAB)\n",
    "lab_planes = cv2.split(lab)\n",
    "clahe = cv2.createCLAHE(clipLimit=2.0, tileGridSize=(10,10))\n",
    "lab_planes[0] = clahe.apply(lab_planes[0])\n",
    "lab = cv2.merge(lab_planes)\n",
    "img2r_hst = cv2.cvtColor(lab, cv2.COLOR_LAB2BGR)\n",
    "\n",
    "# bileteral filter to smooten out\n",
    "img2r_blt = cv2.bilateralFilter(img2r_hst,15,50,50)\n",
    "\n",
    "# Display Both Images on Seperate window\n",
    "cv2.imshow('Stock & Blurred Enhanced', np.hstack([img2r_hst, img2r_blt]))\n",
    "cv2.waitKey(0)\n",
    "cv2.destroyAllWindows() \n"
   ]
  }
 ],
 "metadata": {
  "kernelspec": {
   "display_name": "Python 3",
   "language": "python",
   "name": "python3"
  },
  "language_info": {
   "codemirror_mode": {
    "name": "ipython",
    "version": 3
   },
   "file_extension": ".py",
   "mimetype": "text/x-python",
   "name": "python",
   "nbconvert_exporter": "python",
   "pygments_lexer": "ipython3",
   "version": "3.8.5"
  }
 },
 "nbformat": 4,
 "nbformat_minor": 4
}
